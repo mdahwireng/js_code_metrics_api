{
 "cells": [
  {
   "cell_type": "code",
   "execution_count": 1,
   "id": "cfb94660",
   "metadata": {},
   "outputs": [
    {
     "data": {
      "text/plain": [
       "['server.js',\n",
       " 'package.json',\n",
       " 'server',\n",
       " 'node_modules',\n",
       " 'README.md',\n",
       " '.gitignore',\n",
       " 'try.ipynb',\n",
       " '.git',\n",
       " 'package-lock.json',\n",
       " 'dir.js',\n",
       " 'exec.js',\n",
       " '.ipynb_checkpoints',\n",
       " 'test']"
      ]
     },
     "execution_count": 1,
     "metadata": {},
     "output_type": "execute_result"
    }
   ],
   "source": [
    "import os\n",
    "os.listdir()"
   ]
  }
 ],
 "metadata": {
  "hide_input": false,
  "kernelspec": {
   "display_name": "Python 3",
   "language": "python",
   "name": "python3"
  },
  "language_info": {
   "codemirror_mode": {
    "name": "ipython",
    "version": 3
   },
   "file_extension": ".py",
   "mimetype": "text/x-python",
   "name": "python",
   "nbconvert_exporter": "python",
   "pygments_lexer": "ipython3",
   "version": "3.8.12"
  },
  "toc": {
   "base_numbering": 1,
   "nav_menu": {},
   "number_sections": true,
   "sideBar": true,
   "skip_h1_title": false,
   "title_cell": "Table of Contents",
   "title_sidebar": "Contents",
   "toc_cell": false,
   "toc_position": {},
   "toc_section_display": true,
   "toc_window_display": false
  }
 },
 "nbformat": 4,
 "nbformat_minor": 5
}
